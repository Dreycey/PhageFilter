{
 "cells": [
  {
   "cell_type": "markdown",
   "metadata": {},
   "source": [
    "# PhageFilter Benchmarking Notebook"
   ]
  },
  {
   "cell_type": "code",
   "execution_count": 18,
   "metadata": {},
   "outputs": [],
   "source": [
    "import numpy as np\n",
    "import matplotlib.pyplot as plt\n",
    "import os"
   ]
  },
  {
   "cell_type": "markdown",
   "metadata": {},
   "source": [
    "# Helper Functions"
   ]
  },
  {
   "cell_type": "code",
   "execution_count": 74,
   "metadata": {},
   "outputs": [],
   "source": [
    "def get_read_name_counts(fasta_path):\n",
    "    \"\"\"\n",
    "    works for all 3\n",
    "    return dict\n",
    "    \"\"\"\n",
    "    parsed_file = {}\n",
    "    with open(fasta_path) as fasta:\n",
    "        line = fasta.readline()\n",
    "        while line:\n",
    "            if line[0] == \">\":\n",
    "                name = line.strip(\">\").split(\" \")[0].split(\"-\")[0]\n",
    "                if name in parsed_file:\n",
    "                    parsed_file[name] += 1\n",
    "                else:\n",
    "                    parsed_file[name] = 1\n",
    "            line = fasta.readline() \n",
    "    return parsed_file\n",
    "\n",
    "def parse_directory(genome_path):\n",
    "    \"\"\"\n",
    "    This parses a directory of fasta/fastq files.\n",
    "    \"\"\"\n",
    "    parsed_genomes = {}\n",
    "    for file in os.listdir(genome_path):\n",
    "        parsed_genomes.update(get_read_name_counts(genome_path+file))\n",
    "    return parsed_genomes\n",
    "\n",
    "def benchmark(parsed_reads, parsed_filtered_reads, parsed_genomes):\n",
    "    \"\"\"\n",
    "    Method to calculate true/false positives and true/false negatives\n",
    "    \"\"\"\n",
    "    results = {\"TP\":0, \"FP\":0, \"FN\":0, \"TN\":0}\n",
    "    for filtered_read, count in parsed_filtered_reads.items():\n",
    "        if filtered_read in parsed_genomes.keys():\n",
    "            results[\"TP\"] += count\n",
    "            results[\"FN\"] += parsed_reads[filtered_read] - count \n",
    "        else:\n",
    "            results[\"FP\"] += count\n",
    "            results[\"TN\"] += parsed_reads[filtered_read] - count\n",
    "    return results\n",
    "\n",
    "def get_read_file(filtered_file):\n",
    "    \"\"\"\n",
    "    Returns the read files based on the benchmarking file name\n",
    "    \"\"\"\n",
    "    return \"_\".join(filtered_file.split(\"_\")[:4]) + \".fa\"\n",
    "\n",
    "def get_metrics(results_dict):\n",
    "    \"\"\"\n",
    "    Method to obtain recall, precision and F1 given\n",
    "    true/false positives and true/false negatives\n",
    "    \"\"\"\n",
    "    metrics = {}\n",
    "    metrics[\"precision\"] = results_dict[\"TP\"] / (results_dict[\"TP\"] + results_dict[\"FP\"])\n",
    "    metrics[\"recall\"] = results_dict[\"TP\"] / (results_dict[\"TP\"] + results_dict[\"FN\"])\n",
    "    metrics[\"f1\"] = 2 * (metrics[\"precision\"]*metrics[\"recall\"]) / (metrics[\"precision\"]+metrics[\"recall\"])\n",
    "    return metrics \n",
    "\n",
    "def benchmark_directories(filtered_reads_dir, genomes_dir):\n",
    "    \"\"\"\n",
    "    Full benchmarking method\n",
    "    \"\"\"\n",
    "    full_results = {}\n",
    "    parsed_genomes = parse_directory(genomes_dir)\n",
    "    for filtered_reads_path in os.listdir(filtered_reads_dir):\n",
    "        reads_path = get_read_file(filtered_reads_path)\n",
    "        # parse reads\n",
    "        parsed_reads = get_read_name_counts(\"b1/\"+reads_path)\n",
    "        parsed_filtered_reads = get_read_name_counts(filtered_reads_dir+filtered_reads_path)\n",
    "        # get basic results\n",
    "        results = benchmark(parsed_reads, parsed_filtered_reads, parsed_genomes)\n",
    "        results.update(get_metrics(results))\n",
    "        full_results[filtered_reads_path] = results\n",
    "    return full_results"
   ]
  },
  {
   "cell_type": "markdown",
   "metadata": {},
   "source": [
    "# Analysis"
   ]
  },
  {
   "cell_type": "code",
   "execution_count": 92,
   "metadata": {},
   "outputs": [],
   "source": [
    "filtered_reads_dir = \"b1_out2/\"\n",
    "genomes_dir = \"../genomes/viral_genome_dir/\"\n",
    "final_results = benchmark_directories(filtered_reads_dir, genomes_dir)"
   ]
  },
  {
   "cell_type": "markdown",
   "metadata": {},
   "source": [
    "# Plotting"
   ]
  },
  {
   "cell_type": "code",
   "execution_count": 93,
   "metadata": {},
   "outputs": [
    {
     "data": {
      "image/png": "[encoded data removed]",
      "text/plain": [
       "<Figure size 432x288 with 1 Axes>"
      ]
     },
     "metadata": {
      "needs_background": "light"
     },
     "output_type": "display_data"
    },
    {
     "data": {
      "image/png": "[encoded data removed]",
      "text/plain": [
       "<Figure size 432x288 with 1 Axes>"
      ]
     },
     "metadata": {
      "needs_background": "light"
     },
     "output_type": "display_data"
    }
   ],
   "source": [
    "# number of false positives/negatives over read count size\n",
    "FN_arr = []\n",
    "FP_arr = []\n",
    "names = []\n",
    "for file, result in final_results.items():\n",
    "    FP_arr.append(result[\"FP\"])\n",
    "    FN_arr.append(result[\"FN\"])\n",
    "    names.append(int(file.split(\"_\")[2]))\n",
    "    \n",
    "fig = plt.figure()\n",
    "ax = fig.add_subplot(2, 1, 1)\n",
    "ax.set_xscale('log')\n",
    "ax.scatter(names, FP_arr)\n",
    "ax.set_ylabel(\"False Positives\")\n",
    "ax.set_xlabel(\"Reads in file\")\n",
    "plt.show()\n",
    "\n",
    "fig = plt.figure()\n",
    "ax = fig.add_subplot(2, 1, 1)\n",
    "ax.set_xscale('log')\n",
    "ax.scatter(names, FN_arr)\n",
    "ax.set_ylabel(\"False Negatives\")\n",
    "ax.set_xlabel(\"Reads in file\")\n",
    "plt.show()"
   ]
  },
  {
   "cell_type": "code",
   "execution_count": 94,
   "metadata": {},
   "outputs": [
    {
     "data": {
      "text/plain": [
       "Text(0, 0.5, 'F1 Score')"
      ]
     },
     "execution_count": 94,
     "metadata": {},
     "output_type": "execute_result"
    },
    {
     "data": {
      "image/png": "[encoded data removed]",
      "text/plain": [
       "<Figure size 432x288 with 1 Axes>"
      ]
     },
     "metadata": {
      "needs_background": "light"
     },
     "output_type": "display_data"
    }
   ],
   "source": [
    "# number of false positives/negatives over kmer size\n",
    "FN_arr = []\n",
    "FP_arr = []\n",
    "names = []\n",
    "for file, result in final_results.items():\n",
    "    FP_arr.append(result[\"f1\"])\n",
    "    names.append(int(file.strip(\"fa\").split(\"_\")[-1].strip(\"k\").strip(\".\")))\n",
    "    \n",
    "plt.scatter(names, FP_arr)\n",
    "plt.xlabel(\"kmer size\")\n",
    "plt.ylabel(\"F1 Score\")"
   ]
  },
  {
   "cell_type": "code",
   "execution_count": null,
   "metadata": {},
   "outputs": [],
   "source": []
  },
  {
   "cell_type": "code",
   "execution_count": null,
   "metadata": {},
   "outputs": [],
   "source": []
  },
  {
   "cell_type": "code",
   "execution_count": null,
   "metadata": {},
   "outputs": [],
   "source": []
  }
 ],
 "metadata": {
  "kernelspec": {
   "display_name": "Python 3",
   "language": "python",
   "name": "python3"
  },
  "language_info": {
   "codemirror_mode": {
    "name": "ipython",
    "version": 3
   },
   "file_extension": ".py",
   "mimetype": "text/x-python",
   "name": "python",
   "nbconvert_exporter": "python",
   "pygments_lexer": "ipython3",
   "version": "3.7.9"
  }
 },
 "nbformat": 4,
 "nbformat_minor": 4
}
